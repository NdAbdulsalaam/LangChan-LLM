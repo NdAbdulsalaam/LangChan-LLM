{
  "cells": [
    {
      "cell_type": "code",
      "execution_count": 8,
      "metadata": {
        "colab": {
          "base_uri": "https://localhost:8080/"
        },
        "id": "B9hBmX2axisi",
        "outputId": "50e5f3ed-635b-4b88-f88c-7409d75050b8"
      },
      "outputs": [
        {
          "name": "stdout",
          "output_type": "stream",
          "text": [
            "Muhammadu Buhari is a Nigerian politician who has served as the President of Nigeria since May 29, 2015. He was born on December 17, 1942, in Daura, Katsina State, Nigeria. Buhari is a member of the All Progressives Congress (APC) political party.\n",
            "\n",
            "Before becoming president, Buhari had a long and distinguished military career. He served as a military officer in the Nigerian Army, rising to the rank of Major General. Buhari was the military ruler of Nigeria from 1983 to 1985 after a successful coup d'état. During his time as military ruler, he implemented various policies aimed at combating corruption and improving the economy.\n",
            "\n",
            "After leaving office, Buhari became involved in politics and ran for president multiple times before finally winning the election in 2015. His campaign focused on issues such as corruption, security, and economic development. Buhari was re-elected for a second term in 2019.\n",
            "\n",
            "As president, Buhari has faced numerous challenges, including the Boko Haram insurgency in the northeast of Nigeria, economic issues, and corruption. He has implemented various reforms and initiatives to address these challenges, such as the Social Investment Program, which aims to alleviate poverty and improve social welfare.\n",
            "\n",
            "It is important to note that opinions on Buhari's presidency are diverse, and there are ongoing debates about his policies and their impact on Nigeria.\n"
          ]
        }
      ],
      "source": [
        "from langchain.chat_models import ChatOpenAI\n",
        "from langchain.prompts.chat import (\n",
        "    ChatPromptTemplate,\n",
        "    SystemMessagePromptTemplate,\n",
        "    HumanMessagePromptTemplate,\n",
        ")\n",
        "\n",
        "chat = ChatOpenAI(model_name=\"gpt-3.5-turbo\", temperature=0)\n",
        "\n",
        "template = \"You are an assistant that helps users find information about humans.\"\n",
        "system_message_prompt = SystemMessagePromptTemplate.from_template(template)\n",
        "human_template = \"Find information about the man {movie_title}.\"\n",
        "human_message_prompt = HumanMessagePromptTemplate.from_template(human_template)\n",
        "\n",
        "chat_prompt = ChatPromptTemplate.from_messages([system_message_prompt, human_message_prompt])\n",
        "\n",
        "response = chat(chat_prompt.format_prompt(movie_title=\"Muhammed Buhari\").to_messages())\n",
        "\n",
        "print(response.content)"
      ]
    },
    {
      "cell_type": "markdown",
      "metadata": {
        "id": "ct6UVdwoycvq"
      },
      "source": [
        "# ===="
      ]
    },
    {
      "cell_type": "code",
      "execution_count": 1,
      "metadata": {
        "id": "8Aq0Gw1Ux5E5"
      },
      "outputs": [],
      "source": [
        "# Import necessary modules\n",
        "from langchain import OpenAI, PromptTemplate\n",
        "from langchain.chains.summarize import load_summarize_chain\n",
        "from langchain.document_loaders import PyPDFLoader"
      ]
    },
    {
      "cell_type": "code",
      "execution_count": 2,
      "metadata": {
        "id": "yUPse02KydnP"
      },
      "outputs": [],
      "source": [
        "# Initialize language model\n",
        "llm = OpenAI(model_name=\"text-davinci-003\", temperature=0)"
      ]
    },
    {
      "cell_type": "code",
      "execution_count": 3,
      "metadata": {
        "id": "CFNqeufiyj7a"
      },
      "outputs": [],
      "source": [
        "# Load the summarization chain\n",
        "summarize_chain = load_summarize_chain(llm)"
      ]
    },
    {
      "cell_type": "markdown",
      "metadata": {
        "id": "HWZchXOizjCq"
      },
      "source": [
        "Download file from: https://www.cheat-sheets.org/saved-copy/The%20One%20Page%20Linux%20Manual.pdf"
      ]
    },
    {
      "cell_type": "code",
      "execution_count": 1,
      "metadata": {},
      "outputs": [],
      "source": [
        "import pandas as pd"
      ]
    },
    {
      "cell_type": "code",
      "execution_count": 4,
      "metadata": {
        "id": "cC4g9vFgyqSa"
      },
      "outputs": [],
      "source": [
        "# Load the document using PyPDFLoader\n",
        "document_loader = PyPDFLoader(file_path=\"Nurudeen_Abdulsalaam_Resume.pdf\")\n",
        "document = document_loader.load()"
      ]
    },
    {
      "cell_type": "code",
      "execution_count": 5,
      "metadata": {
        "id": "fauNaJMbytqk"
      },
      "outputs": [],
      "source": [
        "# Summarize the document\n",
        "summary = summarize_chain(document)"
      ]
    },
    {
      "cell_type": "code",
      "execution_count": 6,
      "metadata": {
        "colab": {
          "base_uri": "https://localhost:8080/"
        },
        "id": "DUvzQ37JzP6e",
        "outputId": "a52cb568-4bf3-4935-b5b7-22759cb0adad"
      },
      "outputs": [
        {
          "name": "stdout",
          "output_type": "stream",
          "text": [
            "\n",
            "Nurudeen Abdulsalaam is a healthcare data scientist with 2+ years of experience in the healthcare industry. He is proficient in predictive modelling, data processing and mining algorithms, and scripting languages, including Python. He has experience in web scraping, market research, building predictive models, and creating Excel dashboards. He also has experience in stock management, medication review, and production planning. He has certifications in Supply Chain Management, Applied Data Science, Introduction to Computer Science, Data Analytics Professional Certificate, and Data Analysis Nanodegree. His interests include Artificial Intelligence, Supply Chain Management, Entrepreneurship, and Abuja, Nigeria.\n"
          ]
        }
      ],
      "source": [
        "print(summary['output_text'])"
      ]
    },
    {
      "cell_type": "markdown",
      "metadata": {
        "id": "5s7rtCx7zlo4"
      },
      "source": [
        "# ====="
      ]
    },
    {
      "cell_type": "code",
      "execution_count": null,
      "metadata": {
        "id": "2XTRA4IgzmIN"
      },
      "outputs": [],
      "source": [
        "from langchain.prompts import PromptTemplate\n",
        "from langchain.chains import LLMChain\n",
        "from langchain.llms import OpenAI\n",
        "\n",
        "prompt = PromptTemplate(template=\"Question: {question}\\nAnswer:\", input_variables=[\"question\"])\n",
        "\n",
        "llm = OpenAI(model_name=\"text-davinci-003\", temperature=0)\n",
        "chain = LLMChain(llm=llm, prompt=prompt)"
      ]
    },
    {
      "cell_type": "code",
      "execution_count": null,
      "metadata": {
        "colab": {
          "base_uri": "https://localhost:8080/",
          "height": 71
        },
        "id": "IX0AbaAT1CpO",
        "outputId": "161e964a-fce2-4a26-e31e-2a093ac7a01b"
      },
      "outputs": [
        {
          "data": {
            "application/vnd.google.colaboratory.intrinsic+json": {
              "type": "string"
            },
            "text/plain": [
              "' The meaning of life is subjective and can vary from person to person. For some, it may be to find happiness and fulfillment, while for others it may be to make a difference in the world. Ultimately, the meaning of life is up to each individual to decide.'"
            ]
          },
          "execution_count": 25,
          "metadata": {},
          "output_type": "execute_result"
        }
      ],
      "source": [
        "chain.run(\"what is the meaning of life?\")"
      ]
    },
    {
      "cell_type": "code",
      "execution_count": null,
      "metadata": {
        "id": "ib-dU07u1EL_"
      },
      "outputs": [],
      "source": []
    }
  ],
  "metadata": {
    "colab": {
      "provenance": []
    },
    "kernelspec": {
      "display_name": "Python 3",
      "name": "python3"
    },
    "language_info": {
      "codemirror_mode": {
        "name": "ipython",
        "version": 3
      },
      "file_extension": ".py",
      "mimetype": "text/x-python",
      "name": "python",
      "nbconvert_exporter": "python",
      "pygments_lexer": "ipython3",
      "version": "3.10.4"
    }
  },
  "nbformat": 4,
  "nbformat_minor": 0
}

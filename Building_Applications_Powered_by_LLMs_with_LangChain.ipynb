{
  "cells": [
    {
      "cell_type": "code",
      "execution_count": null,
      "metadata": {
        "colab": {
          "base_uri": "https://localhost:8080/"
        },
        "id": "B9hBmX2axisi",
        "outputId": "50e5f3ed-635b-4b88-f88c-7409d75050b8"
      },
      "outputs": [
        {
          "name": "stdout",
          "output_type": "stream",
          "text": [
            "\"Inception\" is a science fiction action film directed by Christopher Nolan. It was released in 2010 and stars Leonardo DiCaprio, Joseph Gordon-Levitt, Ellen Page, Tom Hardy, and Marion Cotillard. The film follows a professional thief who steals information by infiltrating the subconscious of his targets through their dreams. \n",
            "\n",
            "The story revolves around Dom Cobb (played by DiCaprio), who is offered a chance to have his criminal history erased in exchange for performing the act of \"inception\" - planting an idea in someone's mind rather than stealing it. As Cobb and his team navigate through various dream levels, they encounter unexpected challenges and face the consequences of their actions.\n",
            "\n",
            "\"Inception\" received critical acclaim for its originality, visual effects, and thought-provoking narrative. It was praised for its complex storytelling and exploration of themes such as reality, memory, and the power of the mind. The film was a commercial success, grossing over $828 million worldwide.\n",
            "\n",
            "If you are interested in watching \"Inception,\" it is available on various streaming platforms and can be rented or purchased on digital platforms.\n"
          ]
        }
      ],
      "source": [
        "from langchain.chat_models import ChatOpenAI\n",
        "from langchain.prompts.chat import (\n",
        "    ChatPromptTemplate,\n",
        "    SystemMessagePromptTemplate,\n",
        "    HumanMessagePromptTemplate,\n",
        ")\n",
        "\n",
        "chat = ChatOpenAI(model_name=\"gpt-3.5-turbo\", temperature=0)\n",
        "\n",
        "template = \"You are an assistant that helps users find information about movies.\"\n",
        "system_message_prompt = SystemMessagePromptTemplate.from_template(template)\n",
        "human_template = \"Find information about the movie {movie_title}.\"\n",
        "human_message_prompt = HumanMessagePromptTemplate.from_template(human_template)\n",
        "\n",
        "chat_prompt = ChatPromptTemplate.from_messages([system_message_prompt, human_message_prompt])\n",
        "\n",
        "response = chat(chat_prompt.format_prompt(movie_title=\"Inception\").to_messages())\n",
        "\n",
        "print(response.content)"
      ]
    },
    {
      "cell_type": "markdown",
      "metadata": {
        "id": "ct6UVdwoycvq"
      },
      "source": [
        "# ===="
      ]
    },
    {
      "cell_type": "code",
      "execution_count": null,
      "metadata": {
        "id": "8Aq0Gw1Ux5E5"
      },
      "outputs": [],
      "source": [
        "# Import necessary modules\n",
        "from langchain import OpenAI, PromptTemplate\n",
        "from langchain.chains.summarize import load_summarize_chain\n",
        "from langchain.document_loaders import PyPDFLoader"
      ]
    },
    {
      "cell_type": "code",
      "execution_count": null,
      "metadata": {
        "id": "yUPse02KydnP"
      },
      "outputs": [],
      "source": [
        "# Initialize language model\n",
        "llm = OpenAI(model_name=\"text-davinci-003\", temperature=0)"
      ]
    },
    {
      "cell_type": "code",
      "execution_count": null,
      "metadata": {
        "id": "CFNqeufiyj7a"
      },
      "outputs": [],
      "source": [
        "# Load the summarization chain\n",
        "summarize_chain = load_summarize_chain(llm)"
      ]
    },
    {
      "cell_type": "markdown",
      "metadata": {
        "id": "HWZchXOizjCq"
      },
      "source": [
        "Download file from: https://www.cheat-sheets.org/saved-copy/The%20One%20Page%20Linux%20Manual.pdf"
      ]
    },
    {
      "cell_type": "code",
      "execution_count": null,
      "metadata": {
        "id": "cC4g9vFgyqSa"
      },
      "outputs": [],
      "source": [
        "# Load the document using PyPDFLoader\n",
        "document_loader = PyPDFLoader(file_path=\"./pdf.pdf\")\n",
        "document = document_loader.load()"
      ]
    },
    {
      "cell_type": "code",
      "execution_count": null,
      "metadata": {
        "id": "fauNaJMbytqk"
      },
      "outputs": [],
      "source": [
        "# Summarize the document\n",
        "summary = summarize_chain(document)"
      ]
    },
    {
      "cell_type": "code",
      "execution_count": null,
      "metadata": {
        "colab": {
          "base_uri": "https://localhost:8080/"
        },
        "id": "DUvzQ37JzP6e",
        "outputId": "a52cb568-4bf3-4935-b5b7-22759cb0adad"
      },
      "outputs": [
        {
          "name": "stdout",
          "output_type": "stream",
          "text": [
            " This document provides a summary of useful Linux commands for starting and stopping, accessing and mounting file systems, finding files and text within files, the X Window System, moving, copying, deleting and viewing files, installing software, user administration, little known tips and tricks, configuration files and what they do, file permissions, X shortcuts, printing, and a link to an official Linux pocket protector.\n"
          ]
        }
      ],
      "source": [
        "print(summary['output_text'])"
      ]
    },
    {
      "cell_type": "markdown",
      "metadata": {
        "id": "5s7rtCx7zlo4"
      },
      "source": [
        "# ====="
      ]
    },
    {
      "cell_type": "code",
      "execution_count": null,
      "metadata": {
        "id": "2XTRA4IgzmIN"
      },
      "outputs": [],
      "source": [
        "from langchain.prompts import PromptTemplate\n",
        "from langchain.chains import LLMChain\n",
        "from langchain.llms import OpenAI\n",
        "\n",
        "prompt = PromptTemplate(template=\"Question: {question}\\nAnswer:\", input_variables=[\"question\"])\n",
        "\n",
        "llm = OpenAI(model_name=\"text-davinci-003\", temperature=0)\n",
        "chain = LLMChain(llm=llm, prompt=prompt)"
      ]
    },
    {
      "cell_type": "code",
      "execution_count": null,
      "metadata": {
        "colab": {
          "base_uri": "https://localhost:8080/",
          "height": 71
        },
        "id": "IX0AbaAT1CpO",
        "outputId": "161e964a-fce2-4a26-e31e-2a093ac7a01b"
      },
      "outputs": [
        {
          "data": {
            "application/vnd.google.colaboratory.intrinsic+json": {
              "type": "string"
            },
            "text/plain": [
              "' The meaning of life is subjective and can vary from person to person. For some, it may be to find happiness and fulfillment, while for others it may be to make a difference in the world. Ultimately, the meaning of life is up to each individual to decide.'"
            ]
          },
          "execution_count": 25,
          "metadata": {},
          "output_type": "execute_result"
        }
      ],
      "source": [
        "chain.run(\"what is the meaning of life?\")"
      ]
    },
    {
      "cell_type": "code",
      "execution_count": null,
      "metadata": {
        "id": "ib-dU07u1EL_"
      },
      "outputs": [],
      "source": []
    }
  ],
  "metadata": {
    "colab": {
      "provenance": []
    },
    "kernelspec": {
      "display_name": "Python 3",
      "name": "python3"
    },
    "language_info": {
      "name": "python"
    }
  },
  "nbformat": 4,
  "nbformat_minor": 0
}

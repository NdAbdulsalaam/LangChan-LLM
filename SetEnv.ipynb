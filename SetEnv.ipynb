{
 "cells": [
  {
   "cell_type": "code",
   "execution_count": 1,
   "metadata": {},
   "outputs": [],
   "source": [
    "import os\n",
    "from dotenv import load_dotenv"
   ]
  },
  {
   "cell_type": "code",
   "execution_count": 2,
   "metadata": {},
   "outputs": [],
   "source": [
    "OPENAI_API_KEY = os.environ.get('OPENAI_API_KEY')\n",
    "activeloop = os.environ.get('ACTIVELOOP_TOKEN')"
   ]
  },
  {
   "cell_type": "code",
   "execution_count": 9,
   "metadata": {},
   "outputs": [],
   "source": [
    "from langchain.llms import OpenAI"
   ]
  },
  {
   "cell_type": "code",
   "execution_count": 10,
   "metadata": {},
   "outputs": [],
   "source": [
    "llm = OpenAI(model=\"text-davinci-003\", temperature=0.9)"
   ]
  },
  {
   "cell_type": "code",
   "execution_count": 11,
   "metadata": {},
   "outputs": [
    {
     "name": "stdout",
     "output_type": "stream",
     "text": [
      "\n",
      "\n",
      "Cardiovascular Endurance Workout: \n",
      "\n",
      "-Warm-up: Start by doing 5-10 minutes of light jogging and dynamic stretching.\n",
      "\n",
      "Monday:\n",
      "\n",
      "-Interval training: Run hard for 1 minute and rest for 1 minute. Repeat for 30 minutes.\n",
      "\n",
      "Tuesday:\n",
      "\n",
      "-Hill sprints: Take a brisk walk to find a hill and sprint up it for 30-60 seconds. Walk back down the hill and repeat 5-10 times.\n",
      "\n",
      "Wednesday:\n",
      "\n",
      "-Rest day. Enjoy a light walk or active recovery.\n",
      "\n",
      "Thursday:\n",
      "\n",
      "-Swimming: Spend 30 minutes swimming laps. \n",
      "\n",
      "Friday:\n",
      "\n",
      "-Trail running: Run for at least 30 minutes on various types of terrain. Make sure to adjust your speed depending on the terrain.\n",
      "\n",
      "Saturday:\n",
      "\n",
      "-Circuit training: Combine bodyweight exercises such as jumping jacks, mountain climbers, burpees, and squats. Do each exercise for 30 seconds with a 10-second rest in between. \n",
      "\n",
      "Sunday:\n",
      "\n",
      "-Bike ride: Ride your bike for at least 45 minutes at a moderate pace. \n",
      "\n",
      "\n",
      "Bonus:\n",
      "\n",
      "-Yoga: Practice yoga for 15-20\n"
     ]
    }
   ],
   "source": [
    "text = \"Suggest a personalized workout routine for someone looking to improve cardiovascular endurance and prefers outdoor activities.\"\n",
    "print(llm(text))"
   ]
  },
  {
   "cell_type": "code",
   "execution_count": null,
   "metadata": {},
   "outputs": [],
   "source": []
  }
 ],
 "metadata": {
  "kernelspec": {
   "display_name": "Python 3",
   "language": "python",
   "name": "python3"
  },
  "language_info": {
   "codemirror_mode": {
    "name": "ipython",
    "version": 3
   },
   "file_extension": ".py",
   "mimetype": "text/x-python",
   "name": "python",
   "nbconvert_exporter": "python",
   "pygments_lexer": "ipython3",
   "version": "3.10.4"
  },
  "orig_nbformat": 4
 },
 "nbformat": 4,
 "nbformat_minor": 2
}
